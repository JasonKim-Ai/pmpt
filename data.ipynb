{
 "cells": [
  {
   "cell_type": "code",
   "execution_count": 3,
   "metadata": {},
   "outputs": [],
   "source": [
    "import pandas as pd"
   ]
  },
  {
   "cell_type": "code",
   "execution_count": 10,
   "metadata": {},
   "outputs": [
    {
     "data": {
      "text/html": [
       "<div>\n",
       "<style scoped>\n",
       "    .dataframe tbody tr th:only-of-type {\n",
       "        vertical-align: middle;\n",
       "    }\n",
       "\n",
       "    .dataframe tbody tr th {\n",
       "        vertical-align: top;\n",
       "    }\n",
       "\n",
       "    .dataframe thead th {\n",
       "        text-align: right;\n",
       "    }\n",
       "</style>\n",
       "<table border=\"1\" class=\"dataframe\">\n",
       "  <thead>\n",
       "    <tr style=\"text-align: right;\">\n",
       "      <th></th>\n",
       "      <th>장</th>\n",
       "      <th>소제목</th>\n",
       "      <th>프롬프트</th>\n",
       "    </tr>\n",
       "  </thead>\n",
       "  <tbody>\n",
       "    <tr>\n",
       "      <th>0</th>\n",
       "      <td>2. 생성 AI로 PPT 자동 작성하기</td>\n",
       "      <td>PPT 작성</td>\n",
       "      <td>지금 업로드한 pdf로 ppt를 만들려고해,\\r\\npdf를 8페이지 분량으로 구조화...</td>\n",
       "    </tr>\n",
       "    <tr>\n",
       "      <th>1</th>\n",
       "      <td>3. ChatGPT 알아보기</td>\n",
       "      <td>프롬프트 예제 1</td>\n",
       "      <td>너는 프렌차이즈 컨설턴트야,\\r\\n나는 서울시 강남구에 치킨집을 오픈하려고해, 유동...</td>\n",
       "    </tr>\n",
       "    <tr>\n",
       "      <th>2</th>\n",
       "      <td>3. ChatGPT 알아보기</td>\n",
       "      <td>프롬프트 예제 1</td>\n",
       "      <td>너는 전기자전거 생산회사를 컨설팅하는 경영 컨설턴트야.\\r\\n요즘 경쟁업체가 많아서...</td>\n",
       "    </tr>\n",
       "    <tr>\n",
       "      <th>3</th>\n",
       "      <td>3. ChatGPT 알아보기</td>\n",
       "      <td>프롬프트 예제 2</td>\n",
       "      <td>다음 조건을 지키면서 “부서내 세대간 소통 활성화 방안”\\r\\n보고서를 작성해줘\\r...</td>\n",
       "    </tr>\n",
       "    <tr>\n",
       "      <th>4</th>\n",
       "      <td>3. ChatGPT 알아보기</td>\n",
       "      <td>프롬프트 예제 3</td>\n",
       "      <td>첨부한 파일은 포스코홀딩스 회사의 반기 보고서'입니다.\\r\\n나는 포스코홀딩스에서 ...</td>\n",
       "    </tr>\n",
       "    <tr>\n",
       "      <th>...</th>\n",
       "      <td>...</td>\n",
       "      <td>...</td>\n",
       "      <td>...</td>\n",
       "    </tr>\n",
       "    <tr>\n",
       "      <th>75</th>\n",
       "      <td>8. 아이디어 발굴\\r\\n</td>\n",
       "      <td>다빈치 스킬\\r\\n</td>\n",
       "      <td>새로운 김밥을 만들려고 합니다. 아래와 같은 절차로 새로운 김밥을 만들어 주세요. ...</td>\n",
       "    </tr>\n",
       "    <tr>\n",
       "      <th>76</th>\n",
       "      <td>8. 아이디어 발굴\\r\\n</td>\n",
       "      <td>브레인스토밍\\r\\n</td>\n",
       "      <td>아파트 공사현장입니다. 끼임, 추락, 낙하, 폭발 등의 안전사고가 빈번하게 발생하여...</td>\n",
       "    </tr>\n",
       "    <tr>\n",
       "      <th>77</th>\n",
       "      <td>8. 아이디어 발굴\\r\\n</td>\n",
       "      <td>브레인스토밍\\r\\n</td>\n",
       "      <td>0번 아이디어가 마음에 드네요,\\r\\n세사람의 관점에서 0번 아이디어를 좀 더 구...</td>\n",
       "    </tr>\n",
       "    <tr>\n",
       "      <th>78</th>\n",
       "      <td>9. 경영과학\\r\\n</td>\n",
       "      <td>선형계획법\\r\\n</td>\n",
       "      <td>제품 A를 1 kg 만드는데 원재료 5kg, 전력 1kw/h 가 필요하며 제품 B를...</td>\n",
       "    </tr>\n",
       "    <tr>\n",
       "      <th>79</th>\n",
       "      <td>9. 경영과학</td>\n",
       "      <td>선형계획법\\r\\n</td>\n",
       "      <td>대한철강사는 두 곳의 공장에서 세가지 제품을 생산중에 있다.\\r\\n각 공장별 제품 ...</td>\n",
       "    </tr>\n",
       "  </tbody>\n",
       "</table>\n",
       "<p>80 rows × 3 columns</p>\n",
       "</div>"
      ],
      "text/plain": [
       "                        장         소제목  \\\n",
       "0   2. 생성 AI로 PPT 자동 작성하기      PPT 작성   \n",
       "1         3. ChatGPT 알아보기   프롬프트 예제 1   \n",
       "2         3. ChatGPT 알아보기   프롬프트 예제 1   \n",
       "3         3. ChatGPT 알아보기   프롬프트 예제 2   \n",
       "4         3. ChatGPT 알아보기   프롬프트 예제 3   \n",
       "..                    ...         ...   \n",
       "75         8. 아이디어 발굴\\r\\n  다빈치 스킬\\r\\n   \n",
       "76         8. 아이디어 발굴\\r\\n  브레인스토밍\\r\\n   \n",
       "77         8. 아이디어 발굴\\r\\n  브레인스토밍\\r\\n   \n",
       "78            9. 경영과학\\r\\n   선형계획법\\r\\n   \n",
       "79                9. 경영과학   선형계획법\\r\\n   \n",
       "\n",
       "                                                 프롬프트  \n",
       "0   지금 업로드한 pdf로 ppt를 만들려고해,\\r\\npdf를 8페이지 분량으로 구조화...  \n",
       "1   너는 프렌차이즈 컨설턴트야,\\r\\n나는 서울시 강남구에 치킨집을 오픈하려고해, 유동...  \n",
       "2   너는 전기자전거 생산회사를 컨설팅하는 경영 컨설턴트야.\\r\\n요즘 경쟁업체가 많아서...  \n",
       "3   다음 조건을 지키면서 “부서내 세대간 소통 활성화 방안”\\r\\n보고서를 작성해줘\\r...  \n",
       "4   첨부한 파일은 포스코홀딩스 회사의 반기 보고서'입니다.\\r\\n나는 포스코홀딩스에서 ...  \n",
       "..                                                ...  \n",
       "75  새로운 김밥을 만들려고 합니다. 아래와 같은 절차로 새로운 김밥을 만들어 주세요. ...  \n",
       "76  아파트 공사현장입니다. 끼임, 추락, 낙하, 폭발 등의 안전사고가 빈번하게 발생하여...  \n",
       "77   0번 아이디어가 마음에 드네요,\\r\\n세사람의 관점에서 0번 아이디어를 좀 더 구...  \n",
       "78  제품 A를 1 kg 만드는데 원재료 5kg, 전력 1kw/h 가 필요하며 제품 B를...  \n",
       "79  대한철강사는 두 곳의 공장에서 세가지 제품을 생산중에 있다.\\r\\n각 공장별 제품 ...  \n",
       "\n",
       "[80 rows x 3 columns]"
      ]
     },
     "execution_count": 10,
     "metadata": {},
     "output_type": "execute_result"
    }
   ],
   "source": [
    "df = pd.read_clipboard(sep=\"\\t\")\n",
    "df"
   ]
  },
  {
   "cell_type": "code",
   "execution_count": 54,
   "metadata": {},
   "outputs": [],
   "source": [
    "df = df.apply(lambda x: x.str.strip(), axis=1)"
   ]
  },
  {
   "cell_type": "code",
   "execution_count": 55,
   "metadata": {},
   "outputs": [],
   "source": [
    "result = {}\n",
    "for chapter in df[\"장\"].unique():\n",
    "    chapter = chapter.strip()\n",
    "    result[chapter] = {}\n",
    "    for title in df[df[\"장\"] == chapter][\"소제목\"].unique():\n",
    "        title = title.strip()\n",
    "        if title not in result[chapter]:\n",
    "            prompts = [x.strip() for x in df[(df[\"장\"] == chapter) & (df[\"소제목\"] == title)][\"프롬프트\"].tolist()]\n",
    "            result[chapter][title] = prompts"
   ]
  },
  {
   "cell_type": "code",
   "execution_count": 64,
   "metadata": {},
   "outputs": [
    {
     "data": {
      "text/plain": [
       "10836"
      ]
     },
     "execution_count": 64,
     "metadata": {},
     "output_type": "execute_result"
    }
   ],
   "source": [
    "import json\n",
    "open(r\"C:\\Users\\poscouser\\Desktop\\data.json\", \"w\", encoding=\"utf-8\").write(json.dumps(result, ensure_ascii=False, indent=2))"
   ]
  },
  {
   "cell_type": "code",
   "execution_count": 57,
   "metadata": {},
   "outputs": [
    {
     "data": {
      "text/plain": [
       "80"
      ]
     },
     "execution_count": 57,
     "metadata": {},
     "output_type": "execute_result"
    }
   ],
   "source": [
    "count = 0\n",
    "for item in result:\n",
    "    for title in result[item]:\n",
    "        for prompt in result[item][title]:\n",
    "            count = count + 1\n",
    "            # print(prompt, \"\\n\")\n",
    "count"
   ]
  }
 ],
 "metadata": {
  "kernelspec": {
   "display_name": "venv_common",
   "language": "python",
   "name": "python3"
  },
  "language_info": {
   "codemirror_mode": {
    "name": "ipython",
    "version": 3
   },
   "file_extension": ".py",
   "mimetype": "text/x-python",
   "name": "python",
   "nbconvert_exporter": "python",
   "pygments_lexer": "ipython3",
   "version": "3.9.10"
  }
 },
 "nbformat": 4,
 "nbformat_minor": 2
}
