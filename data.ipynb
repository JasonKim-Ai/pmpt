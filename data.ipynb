{
 "cells": [
  {
   "cell_type": "code",
   "execution_count": 1,
   "metadata": {},
   "outputs": [],
   "source": [
    "import pandas as pd"
   ]
  },
  {
   "cell_type": "code",
   "execution_count": 2,
   "metadata": {},
   "outputs": [
    {
     "data": {
      "text/html": [
       "<div>\n",
       "<style scoped>\n",
       "    .dataframe tbody tr th:only-of-type {\n",
       "        vertical-align: middle;\n",
       "    }\n",
       "\n",
       "    .dataframe tbody tr th {\n",
       "        vertical-align: top;\n",
       "    }\n",
       "\n",
       "    .dataframe thead th {\n",
       "        text-align: right;\n",
       "    }\n",
       "</style>\n",
       "<table border=\"1\" class=\"dataframe\">\n",
       "  <thead>\n",
       "    <tr style=\"text-align: right;\">\n",
       "      <th></th>\n",
       "      <th>장</th>\n",
       "      <th>소제목</th>\n",
       "      <th>프롬프트</th>\n",
       "    </tr>\n",
       "  </thead>\n",
       "  <tbody>\n",
       "    <tr>\n",
       "      <th>0</th>\n",
       "      <td>1. 생성 AI 개요</td>\n",
       "      <td>이미지 생성</td>\n",
       "      <td>다음 내용으로 이미지를 생성해줘\\n- 이미지 : 피노키오가 숲속의 작은 바위에 앉아...</td>\n",
       "    </tr>\n",
       "    <tr>\n",
       "      <th>1</th>\n",
       "      <td>1. 생성 AI 개요</td>\n",
       "      <td>이미지 생성</td>\n",
       "      <td>다음 내용으로 이미지를 생성해줘\\n- 이미지 : 제철소를 배경으로 바다가 보여, 제...</td>\n",
       "    </tr>\n",
       "    <tr>\n",
       "      <th>2</th>\n",
       "      <td>1. 생성 AI 개요</td>\n",
       "      <td>Napkin AI 실습</td>\n",
       "      <td>보고서 작성을 잘하는 방법을 설명해줘</td>\n",
       "    </tr>\n",
       "    <tr>\n",
       "      <th>3</th>\n",
       "      <td>1. 생성 AI 개요</td>\n",
       "      <td>감마 실습</td>\n",
       "      <td>지금 업로드한 pdf로 ppt를 만들려고해,\\npdf를 8페이지 분량으로 구조화해서...</td>\n",
       "    </tr>\n",
       "    <tr>\n",
       "      <th>4</th>\n",
       "      <td>2. ChatGPT 알아보기</td>\n",
       "      <td>프롬프트 구성</td>\n",
       "      <td>넌 서울대 대학병원 내과 의사야!\\n나는 고지혈증과 고혈압 증세가 있어\\n규칙적인 ...</td>\n",
       "    </tr>\n",
       "    <tr>\n",
       "      <th>...</th>\n",
       "      <td>...</td>\n",
       "      <td>...</td>\n",
       "      <td>...</td>\n",
       "    </tr>\n",
       "    <tr>\n",
       "      <th>67</th>\n",
       "      <td>부록</td>\n",
       "      <td>보고서 초안작성 GPTs</td>\n",
       "      <td>[역할]\\n너는 보고서 작성 전문가야, 웹에서 다양한 논문, 기사, 아티클을 수집하...</td>\n",
       "    </tr>\n",
       "    <tr>\n",
       "      <th>68</th>\n",
       "      <td>부록</td>\n",
       "      <td>보고서 초안작성 GPTs</td>\n",
       "      <td>전기차 수요 둔화에 따른 2차전지산업 대응방안'에 보고서를 작성해줘, \\n들어갈 내...</td>\n",
       "    </tr>\n",
       "    <tr>\n",
       "      <th>69</th>\n",
       "      <td>부록</td>\n",
       "      <td>보고서 초안작성 GPTs</td>\n",
       "      <td>글로벌 재생 에너지 전망 보고서를 작성해야해, 관련 내용을 검색하고 구조화하여 목차...</td>\n",
       "    </tr>\n",
       "    <tr>\n",
       "      <th>70</th>\n",
       "      <td>부록</td>\n",
       "      <td>보고서 초안작성 GPTs</td>\n",
       "      <td>전기차 수요 둔화에 따른 2차전지산업 대응방안'에 보고서를 작성해줘, \\n들어갈 내...</td>\n",
       "    </tr>\n",
       "    <tr>\n",
       "      <th>71</th>\n",
       "      <td>부록</td>\n",
       "      <td>보고서 초안작성 GPTs</td>\n",
       "      <td>글로벌 재생 에너지 전망 보고서를 작성해야해, 관련 내용을 검색하고 구조화하여 목차...</td>\n",
       "    </tr>\n",
       "  </tbody>\n",
       "</table>\n",
       "<p>72 rows × 3 columns</p>\n",
       "</div>"
      ],
      "text/plain": [
       "                  장            소제목  \\\n",
       "0       1. 생성 AI 개요         이미지 생성   \n",
       "1       1. 생성 AI 개요         이미지 생성   \n",
       "2       1. 생성 AI 개요   Napkin AI 실습   \n",
       "3       1. 생성 AI 개요          감마 실습   \n",
       "4   2. ChatGPT 알아보기        프롬프트 구성   \n",
       "..              ...            ...   \n",
       "67               부록  보고서 초안작성 GPTs   \n",
       "68               부록  보고서 초안작성 GPTs   \n",
       "69               부록  보고서 초안작성 GPTs   \n",
       "70               부록  보고서 초안작성 GPTs   \n",
       "71               부록  보고서 초안작성 GPTs   \n",
       "\n",
       "                                                 프롬프트  \n",
       "0   다음 내용으로 이미지를 생성해줘\\n- 이미지 : 피노키오가 숲속의 작은 바위에 앉아...  \n",
       "1   다음 내용으로 이미지를 생성해줘\\n- 이미지 : 제철소를 배경으로 바다가 보여, 제...  \n",
       "2                                보고서 작성을 잘하는 방법을 설명해줘  \n",
       "3   지금 업로드한 pdf로 ppt를 만들려고해,\\npdf를 8페이지 분량으로 구조화해서...  \n",
       "4   넌 서울대 대학병원 내과 의사야!\\n나는 고지혈증과 고혈압 증세가 있어\\n규칙적인 ...  \n",
       "..                                                ...  \n",
       "67  [역할]\\n너는 보고서 작성 전문가야, 웹에서 다양한 논문, 기사, 아티클을 수집하...  \n",
       "68  전기차 수요 둔화에 따른 2차전지산업 대응방안'에 보고서를 작성해줘, \\n들어갈 내...  \n",
       "69  글로벌 재생 에너지 전망 보고서를 작성해야해, 관련 내용을 검색하고 구조화하여 목차...  \n",
       "70  전기차 수요 둔화에 따른 2차전지산업 대응방안'에 보고서를 작성해줘, \\n들어갈 내...  \n",
       "71  글로벌 재생 에너지 전망 보고서를 작성해야해, 관련 내용을 검색하고 구조화하여 목차...  \n",
       "\n",
       "[72 rows x 3 columns]"
      ]
     },
     "execution_count": 2,
     "metadata": {},
     "output_type": "execute_result"
    }
   ],
   "source": [
    "df = pd.read_clipboard(sep=\"\\t\")\n",
    "df"
   ]
  },
  {
   "cell_type": "code",
   "execution_count": 3,
   "metadata": {},
   "outputs": [],
   "source": [
    "df = df.apply(lambda x: x.str.strip(), axis=1)"
   ]
  },
  {
   "cell_type": "code",
   "execution_count": 4,
   "metadata": {},
   "outputs": [],
   "source": [
    "result = {}\n",
    "for chapter in df[\"장\"].unique():\n",
    "    chapter = chapter.strip()\n",
    "    result[chapter] = {}\n",
    "    for title in df[df[\"장\"] == chapter][\"소제목\"].unique():\n",
    "        title = title.strip()\n",
    "        if title not in result[chapter]:\n",
    "            prompts = [x.strip() for x in df[(df[\"장\"] == chapter) & (df[\"소제목\"] == title)][\"프롬프트\"].tolist()]\n",
    "            result[chapter][title] = prompts"
   ]
  },
  {
   "cell_type": "code",
   "execution_count": 7,
   "metadata": {},
   "outputs": [
    {
     "data": {
      "text/plain": [
       "9769"
      ]
     },
     "execution_count": 7,
     "metadata": {},
     "output_type": "execute_result"
    }
   ],
   "source": [
    "import json\n",
    "open(r\"wxbasic_pgu/data.json\", \"w\", encoding=\"utf-8\").write(\"data_json = \" + json.dumps(result, ensure_ascii=False, indent=2))"
   ]
  },
  {
   "cell_type": "code",
   "execution_count": 6,
   "metadata": {},
   "outputs": [
    {
     "data": {
      "text/plain": [
       "72"
      ]
     },
     "execution_count": 6,
     "metadata": {},
     "output_type": "execute_result"
    }
   ],
   "source": [
    "count = 0\n",
    "for item in result:\n",
    "    for title in result[item]:\n",
    "        for prompt in result[item][title]:\n",
    "            count = count + 1\n",
    "            # print(prompt, \"\\n\")\n",
    "count"
   ]
  }
 ],
 "metadata": {
  "kernelspec": {
   "display_name": "venv_common",
   "language": "python",
   "name": "python3"
  },
  "language_info": {
   "codemirror_mode": {
    "name": "ipython",
    "version": 3
   },
   "file_extension": ".py",
   "mimetype": "text/x-python",
   "name": "python",
   "nbconvert_exporter": "python",
   "pygments_lexer": "ipython3",
   "version": "3.11.9"
  }
 },
 "nbformat": 4,
 "nbformat_minor": 2
}
